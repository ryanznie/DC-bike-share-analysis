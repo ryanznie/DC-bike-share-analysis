{
 "cells": [
  {
   "cell_type": "markdown",
   "metadata": {},
   "source": [
    "# LSTM Model"
   ]
  },
  {
   "cell_type": "code",
   "execution_count": 35,
   "metadata": {},
   "outputs": [
    {
     "data": {
      "text/plain": [
       "DatetimeIndex(['2011-01-01', '2011-01-02', '2011-01-03', '2011-01-04',\n",
       "               '2011-01-05', '2011-01-06', '2011-01-07', '2011-01-08',\n",
       "               '2011-01-09', '2011-01-10',\n",
       "               ...\n",
       "               '2018-12-22', '2018-12-23', '2018-12-24', '2018-12-25',\n",
       "               '2018-12-26', '2018-12-27', '2018-12-28', '2018-12-29',\n",
       "               '2018-12-30', '2018-12-31'],\n",
       "              dtype='datetime64[ns]', name='date', length=2922, freq=None)"
      ]
     },
     "execution_count": 35,
     "metadata": {},
     "output_type": "execute_result"
    }
   ],
   "source": [
    "import pandas as pd\n",
    "ts = pd.read_csv(\"bike_sharing_dataset.csv\", index_col = 0, usecols=['date','total_cust'], parse_dates=True)\n",
    "ts.index"
   ]
  },
  {
   "cell_type": "code",
   "execution_count": 36,
   "metadata": {},
   "outputs": [
    {
     "data": {
      "text/plain": [
       "total_cust    4\n",
       "dtype: int64"
      ]
     },
     "execution_count": 36,
     "metadata": {},
     "output_type": "execute_result"
    }
   ],
   "source": [
    "ts.isnull().sum()"
   ]
  },
  {
   "cell_type": "code",
   "execution_count": 37,
   "metadata": {},
   "outputs": [
    {
     "data": {
      "text/plain": [
       "total_cust    0\n",
       "dtype: int64"
      ]
     },
     "execution_count": 37,
     "metadata": {},
     "output_type": "execute_result"
    }
   ],
   "source": [
    "ts.fillna(ts.median(), inplace = True)\n",
    "ts.isnull().sum()"
   ]
  },
  {
   "cell_type": "code",
   "execution_count": 38,
   "metadata": {},
   "outputs": [
    {
     "data": {
      "text/plain": [
       "<matplotlib.axes._subplots.AxesSubplot at 0x7fc7b43e24f0>"
      ]
     },
     "execution_count": 38,
     "metadata": {},
     "output_type": "execute_result"
    },
    {
     "data": {
      "image/png": "[encoded data removed]",
      "text/plain": [
       "<Figure size 432x288 with 1 Axes>"
      ]
     },
     "metadata": {
      "needs_background": "light"
     },
     "output_type": "display_data"
    }
   ],
   "source": [
    "ts.plot()\n",
    "\n",
    "# from statsmodels.tsa.seasonal import seasonal_decompose\n",
    "# from matplotlib import pyplot as plt\n",
    "\n",
    "# plt.figure(figsize=(16,8))\n",
    "# res = seasonal_decompose(ts['total_cust'])\n",
    "# res.plot();"
   ]
  },
  {
   "cell_type": "code",
   "execution_count": 39,
   "metadata": {},
   "outputs": [
    {
     "name": "stdout",
     "output_type": "stream",
     "text": [
      "2922\n"
     ]
    },
    {
     "data": {
      "text/html": [
       "<div>\n",
       "<style scoped>\n",
       "    .dataframe tbody tr th:only-of-type {\n",
       "        vertical-align: middle;\n",
       "    }\n",
       "\n",
       "    .dataframe tbody tr th {\n",
       "        vertical-align: top;\n",
       "    }\n",
       "\n",
       "    .dataframe thead th {\n",
       "        text-align: right;\n",
       "    }\n",
       "</style>\n",
       "<table border=\"1\" class=\"dataframe\">\n",
       "  <thead>\n",
       "    <tr style=\"text-align: right;\">\n",
       "      <th></th>\n",
       "      <th>total_cust</th>\n",
       "    </tr>\n",
       "    <tr>\n",
       "      <th>date</th>\n",
       "      <th></th>\n",
       "    </tr>\n",
       "  </thead>\n",
       "  <tbody>\n",
       "    <tr>\n",
       "      <th>2011-01-01</th>\n",
       "      <td>959.0</td>\n",
       "    </tr>\n",
       "    <tr>\n",
       "      <th>2011-01-02</th>\n",
       "      <td>781.0</td>\n",
       "    </tr>\n",
       "    <tr>\n",
       "      <th>2011-01-03</th>\n",
       "      <td>1301.0</td>\n",
       "    </tr>\n",
       "    <tr>\n",
       "      <th>2011-01-04</th>\n",
       "      <td>1536.0</td>\n",
       "    </tr>\n",
       "    <tr>\n",
       "      <th>2011-01-05</th>\n",
       "      <td>1571.0</td>\n",
       "    </tr>\n",
       "    <tr>\n",
       "      <th>...</th>\n",
       "      <td>...</td>\n",
       "    </tr>\n",
       "    <tr>\n",
       "      <th>2018-12-27</th>\n",
       "      <td>5430.0</td>\n",
       "    </tr>\n",
       "    <tr>\n",
       "      <th>2018-12-28</th>\n",
       "      <td>2125.0</td>\n",
       "    </tr>\n",
       "    <tr>\n",
       "      <th>2018-12-29</th>\n",
       "      <td>6008.0</td>\n",
       "    </tr>\n",
       "    <tr>\n",
       "      <th>2018-12-30</th>\n",
       "      <td>4929.0</td>\n",
       "    </tr>\n",
       "    <tr>\n",
       "      <th>2018-12-31</th>\n",
       "      <td>2401.0</td>\n",
       "    </tr>\n",
       "  </tbody>\n",
       "</table>\n",
       "<p>2922 rows × 1 columns</p>\n",
       "</div>"
      ],
      "text/plain": [
       "            total_cust\n",
       "date                  \n",
       "2011-01-01       959.0\n",
       "2011-01-02       781.0\n",
       "2011-01-03      1301.0\n",
       "2011-01-04      1536.0\n",
       "2011-01-05      1571.0\n",
       "...                ...\n",
       "2018-12-27      5430.0\n",
       "2018-12-28      2125.0\n",
       "2018-12-29      6008.0\n",
       "2018-12-30      4929.0\n",
       "2018-12-31      2401.0\n",
       "\n",
       "[2922 rows x 1 columns]"
      ]
     },
     "execution_count": 39,
     "metadata": {},
     "output_type": "execute_result"
    }
   ],
   "source": [
    "print(len(ts))\n",
    "ts"
   ]
  },
  {
   "cell_type": "code",
   "execution_count": 40,
   "metadata": {},
   "outputs": [],
   "source": [
    "# preprocess data\n",
    "from sklearn.preprocessing import MinMaxScaler\n",
    "\n",
    "scaler = MinMaxScaler()\n",
    "ts_sc = scaler.fit_transform(ts)\n",
    "\n",
    "train = ts_sc[:2337]\n",
    "val = ts_sc[2337:]"
   ]
  },
  {
   "cell_type": "code",
   "execution_count": 41,
   "metadata": {},
   "outputs": [],
   "source": [
    "import tensorflow as tf\n",
    "from tensorflow import keras\n",
    "from keras.preprocessing.sequence import TimeseriesGenerator\n",
    "\n",
    "n_input = 500\n",
    "n_feats = 1\n",
    "generator = TimeseriesGenerator(train, train, length=n_input, batch_size=1)\n",
    "generator_val = TimeseriesGenerator(val, val, length=n_input, batch_size=1)"
   ]
  },
  {
   "cell_type": "code",
   "execution_count": 42,
   "metadata": {},
   "outputs": [],
   "source": [
    "x, y = generator[0]\n",
    "val_X, val_y = generator_val[0]"
   ]
  },
  {
   "cell_type": "code",
   "execution_count": 43,
   "metadata": {},
   "outputs": [
    {
     "name": "stdout",
     "output_type": "stream",
     "text": [
      "created LSTM\n",
      "compiled LSTM\n",
      "Model: \"sequential_11\"\n",
      "_________________________________________________________________\n",
      " Layer (type)                Output Shape              Param #   \n",
      "=================================================================\n",
      " lstm_9 (LSTM)               (None, 8)                 320       \n",
      "                                                                 \n",
      " dense_16 (Dense)            (None, 8)                 72        \n",
      "                                                                 \n",
      " dense_17 (Dense)            (None, 1)                 9         \n",
      "                                                                 \n",
      "=================================================================\n",
      "Total params: 401\n",
      "Trainable params: 401\n",
      "Non-trainable params: 0\n",
      "_________________________________________________________________\n"
     ]
    }
   ],
   "source": [
    "def LSTM(unit):\n",
    "    \"\"\"Creates LSTM architecture\"\"\"\n",
    "    \n",
    "    model = tf.keras.Sequential()\n",
    "    #model.add()\n",
    "    model.add(tf.keras.layers.LSTM(unit,input_shape = (n_input, n_feats), activation = 'relu',recurrent_dropout=0.3))\n",
    "    \n",
    "    model.add(tf.keras.layers.Dense(8, activation = 'linear'))\n",
    "    model.add(tf.keras.layers.Dense(1, activation = 'linear'))\n",
    "    print(\"created LSTM\")\n",
    "    \n",
    "    model.compile(loss=tf.keras.losses.MeanSquaredError(), optimizer=tf.keras.optimizers.Adam(), metrics=['MSE'])\n",
    "    print(\"compiled LSTM\")\n",
    "    \n",
    "    return model\n",
    "\n",
    "LSTM = LSTM(8)\n",
    "LSTM.summary()"
   ]
  },
  {
   "cell_type": "code",
   "execution_count": 44,
   "metadata": {},
   "outputs": [
    {
     "name": "stdout",
     "output_type": "stream",
     "text": [
      "Epoch 1/100\n",
      "1/1 [==============================] - 3s 3s/step - loss: 0.1114 - MSE: 0.1114 - val_loss: 0.5897 - val_MSE: 0.5897\n",
      "Epoch 2/100\n",
      "1/1 [==============================] - 0s 349ms/step - loss: 0.1004 - MSE: 0.1004 - val_loss: 0.5732 - val_MSE: 0.5732\n",
      "Epoch 3/100\n",
      "1/1 [==============================] - 0s 396ms/step - loss: 0.0943 - MSE: 0.0943 - val_loss: 0.5570 - val_MSE: 0.5570\n",
      "Epoch 4/100\n",
      "1/1 [==============================] - 0s 359ms/step - loss: 0.0904 - MSE: 0.0904 - val_loss: 0.5412 - val_MSE: 0.5412\n",
      "Epoch 5/100\n",
      "1/1 [==============================] - 0s 348ms/step - loss: 0.0929 - MSE: 0.0929 - val_loss: 0.5256 - val_MSE: 0.5256\n",
      "Epoch 6/100\n",
      "1/1 [==============================] - 0s 363ms/step - loss: 0.1000 - MSE: 0.1000 - val_loss: 0.5103 - val_MSE: 0.5103\n",
      "Epoch 7/100\n",
      "1/1 [==============================] - 0s 367ms/step - loss: 0.0825 - MSE: 0.0825 - val_loss: 0.4953 - val_MSE: 0.4953\n",
      "Epoch 8/100\n",
      "1/1 [==============================] - 0s 347ms/step - loss: 0.0698 - MSE: 0.0698 - val_loss: 0.4807 - val_MSE: 0.4807\n",
      "Epoch 9/100\n",
      "1/1 [==============================] - 0s 343ms/step - loss: 0.0667 - MSE: 0.0667 - val_loss: 0.4665 - val_MSE: 0.4665\n",
      "Epoch 10/100\n",
      "1/1 [==============================] - 0s 351ms/step - loss: 0.0684 - MSE: 0.0684 - val_loss: 0.4526 - val_MSE: 0.4526\n",
      "Epoch 11/100\n",
      "1/1 [==============================] - 0s 345ms/step - loss: 0.0645 - MSE: 0.0645 - val_loss: 0.4390 - val_MSE: 0.4390\n",
      "Epoch 12/100\n",
      "1/1 [==============================] - 0s 372ms/step - loss: 0.0653 - MSE: 0.0653 - val_loss: 0.4257 - val_MSE: 0.4257\n",
      "Epoch 13/100\n",
      "1/1 [==============================] - 0s 365ms/step - loss: 0.0606 - MSE: 0.0606 - val_loss: 0.4125 - val_MSE: 0.4125\n",
      "Epoch 14/100\n",
      "1/1 [==============================] - 0s 398ms/step - loss: 0.0452 - MSE: 0.0452 - val_loss: 0.3997 - val_MSE: 0.3997\n",
      "Epoch 15/100\n",
      "1/1 [==============================] - 0s 371ms/step - loss: 0.0487 - MSE: 0.0487 - val_loss: 0.3872 - val_MSE: 0.3872\n",
      "Epoch 16/100\n",
      "1/1 [==============================] - 0s 354ms/step - loss: 0.0375 - MSE: 0.0375 - val_loss: 0.3744 - val_MSE: 0.3744\n",
      "Epoch 17/100\n",
      "1/1 [==============================] - 0s 351ms/step - loss: 0.0447 - MSE: 0.0447 - val_loss: 0.3592 - val_MSE: 0.3592\n",
      "Epoch 18/100\n",
      "1/1 [==============================] - 0s 355ms/step - loss: 0.0373 - MSE: 0.0373 - val_loss: 0.3415 - val_MSE: 0.3415\n",
      "Epoch 19/100\n",
      "1/1 [==============================] - 0s 352ms/step - loss: 0.0354 - MSE: 0.0354 - val_loss: 0.3239 - val_MSE: 0.3239\n",
      "Epoch 20/100\n",
      "1/1 [==============================] - 0s 426ms/step - loss: 0.0256 - MSE: 0.0256 - val_loss: 0.3067 - val_MSE: 0.3067\n",
      "Epoch 21/100\n",
      "1/1 [==============================] - 0s 495ms/step - loss: 0.0335 - MSE: 0.0335 - val_loss: 0.2893 - val_MSE: 0.2893\n",
      "Epoch 22/100\n",
      "1/1 [==============================] - 0s 421ms/step - loss: 0.0229 - MSE: 0.0229 - val_loss: 0.2719 - val_MSE: 0.2719\n",
      "Epoch 23/100\n",
      "1/1 [==============================] - 1s 674ms/step - loss: 0.0210 - MSE: 0.0210 - val_loss: 0.2542 - val_MSE: 0.2542\n",
      "Epoch 24/100\n",
      "1/1 [==============================] - 1s 621ms/step - loss: 0.0157 - MSE: 0.0157 - val_loss: 0.2370 - val_MSE: 0.2370\n",
      "Epoch 25/100\n",
      "1/1 [==============================] - 1s 585ms/step - loss: 0.0148 - MSE: 0.0148 - val_loss: 0.2201 - val_MSE: 0.2201\n",
      "Epoch 26/100\n",
      "1/1 [==============================] - 1s 602ms/step - loss: 0.0135 - MSE: 0.0135 - val_loss: 0.2037 - val_MSE: 0.2037\n",
      "Epoch 27/100\n",
      "1/1 [==============================] - 0s 387ms/step - loss: 0.0148 - MSE: 0.0148 - val_loss: 0.1877 - val_MSE: 0.1877\n",
      "Epoch 28/100\n",
      "1/1 [==============================] - 0s 386ms/step - loss: 0.0092 - MSE: 0.0092 - val_loss: 0.1724 - val_MSE: 0.1724\n",
      "Epoch 29/100\n",
      "1/1 [==============================] - 0s 407ms/step - loss: 0.0057 - MSE: 0.0057 - val_loss: 0.1577 - val_MSE: 0.1577\n",
      "Epoch 30/100\n",
      "1/1 [==============================] - 0s 437ms/step - loss: 0.0066 - MSE: 0.0066 - val_loss: 0.1437 - val_MSE: 0.1437\n",
      "Epoch 31/100\n",
      "1/1 [==============================] - 1s 741ms/step - loss: 0.0017 - MSE: 0.0017 - val_loss: 0.1308 - val_MSE: 0.1308\n",
      "Epoch 32/100\n",
      "1/1 [==============================] - 1s 657ms/step - loss: 0.0017 - MSE: 0.0017 - val_loss: 0.1193 - val_MSE: 0.1193\n",
      "Epoch 33/100\n",
      "1/1 [==============================] - 1s 661ms/step - loss: 0.0012 - MSE: 0.0012 - val_loss: 0.1087 - val_MSE: 0.1087\n",
      "Epoch 34/100\n",
      "1/1 [==============================] - 1s 621ms/step - loss: 4.3219e-04 - MSE: 4.3219e-04 - val_loss: 0.0988 - val_MSE: 0.0988\n",
      "Epoch 35/100\n",
      "1/1 [==============================] - 1s 593ms/step - loss: 8.3448e-04 - MSE: 8.3448e-04 - val_loss: 0.0895 - val_MSE: 0.0895\n",
      "Epoch 36/100\n",
      "1/1 [==============================] - 1s 692ms/step - loss: 2.0386e-04 - MSE: 2.0386e-04 - val_loss: 0.0809 - val_MSE: 0.0809\n",
      "Epoch 37/100\n",
      "1/1 [==============================] - 1s 686ms/step - loss: 6.1081e-05 - MSE: 6.1081e-05 - val_loss: 0.0734 - val_MSE: 0.0734\n",
      "Epoch 38/100\n",
      "1/1 [==============================] - 0s 449ms/step - loss: 1.3346e-04 - MSE: 1.3346e-04 - val_loss: 0.0664 - val_MSE: 0.0664\n",
      "Epoch 39/100\n",
      "1/1 [==============================] - 0s 411ms/step - loss: 2.8298e-04 - MSE: 2.8298e-04 - val_loss: 0.0606 - val_MSE: 0.0606\n",
      "Epoch 40/100\n",
      "1/1 [==============================] - 0s 390ms/step - loss: 9.8743e-04 - MSE: 9.8743e-04 - val_loss: 0.0561 - val_MSE: 0.0561\n",
      "Epoch 41/100\n",
      "1/1 [==============================] - 0s 460ms/step - loss: 6.3280e-04 - MSE: 6.3280e-04 - val_loss: 0.0527 - val_MSE: 0.0527\n",
      "Epoch 42/100\n",
      "1/1 [==============================] - 0s 417ms/step - loss: 0.0033 - MSE: 0.0033 - val_loss: 0.0512 - val_MSE: 0.0512\n",
      "Epoch 43/100\n",
      "1/1 [==============================] - 0s 367ms/step - loss: 0.0025 - MSE: 0.0025 - val_loss: 0.0509 - val_MSE: 0.0509\n",
      "Epoch 44/100\n",
      "1/1 [==============================] - 0s 440ms/step - loss: 0.0060 - MSE: 0.0060 - val_loss: 0.0525 - val_MSE: 0.0525\n",
      "Epoch 45/100\n",
      "1/1 [==============================] - 1s 504ms/step - loss: 8.9590e-04 - MSE: 8.9590e-04 - val_loss: 0.0543 - val_MSE: 0.0543\n",
      "Epoch 46/100\n",
      "1/1 [==============================] - 0s 354ms/step - loss: 0.0017 - MSE: 0.0017 - val_loss: 0.0567 - val_MSE: 0.0567\n",
      "Epoch 47/100\n",
      "1/1 [==============================] - 0s 373ms/step - loss: 0.0011 - MSE: 0.0011 - val_loss: 0.0594 - val_MSE: 0.0594\n",
      "Epoch 48/100\n",
      "1/1 [==============================] - 0s 410ms/step - loss: 2.1137e-04 - MSE: 2.1137e-04 - val_loss: 0.0621 - val_MSE: 0.0621\n",
      "Epoch 49/100\n",
      "1/1 [==============================] - 0s 423ms/step - loss: 5.3275e-04 - MSE: 5.3275e-04 - val_loss: 0.0648 - val_MSE: 0.0648\n",
      "Epoch 50/100\n",
      "1/1 [==============================] - 0s 356ms/step - loss: 0.0024 - MSE: 0.0024 - val_loss: 0.0681 - val_MSE: 0.0681\n",
      "Epoch 51/100\n",
      "1/1 [==============================] - 0s 431ms/step - loss: 6.5231e-06 - MSE: 6.5231e-06 - val_loss: 0.0711 - val_MSE: 0.0711\n",
      "Epoch 52/100\n",
      "1/1 [==============================] - 0s 389ms/step - loss: 5.0836e-05 - MSE: 5.0836e-05 - val_loss: 0.0737 - val_MSE: 0.0737\n",
      "Epoch 53/100\n",
      "1/1 [==============================] - 0s 419ms/step - loss: 0.0017 - MSE: 0.0017 - val_loss: 0.0768 - val_MSE: 0.0768\n",
      "Epoch 54/100\n",
      "1/1 [==============================] - 0s 452ms/step - loss: 0.0011 - MSE: 0.0011 - val_loss: 0.0801 - val_MSE: 0.0801\n",
      "Epoch 55/100\n",
      "1/1 [==============================] - 0s 391ms/step - loss: 4.8618e-06 - MSE: 4.8618e-06 - val_loss: 0.0832 - val_MSE: 0.0832\n",
      "Epoch 56/100\n",
      "1/1 [==============================] - 0s 375ms/step - loss: 3.7311e-05 - MSE: 3.7311e-05 - val_loss: 0.0859 - val_MSE: 0.0859\n",
      "Epoch 57/100\n",
      "1/1 [==============================] - 0s 401ms/step - loss: 8.9154e-05 - MSE: 8.9154e-05 - val_loss: 0.0885 - val_MSE: 0.0885\n",
      "Epoch 58/100\n",
      "1/1 [==============================] - 0s 359ms/step - loss: 4.7878e-04 - MSE: 4.7878e-04 - val_loss: 0.0911 - val_MSE: 0.0911\n",
      "Epoch 59/100\n",
      "1/1 [==============================] - 0s 335ms/step - loss: 2.7016e-04 - MSE: 2.7016e-04 - val_loss: 0.0938 - val_MSE: 0.0938\n",
      "Epoch 60/100\n",
      "1/1 [==============================] - 0s 379ms/step - loss: 2.0201e-04 - MSE: 2.0201e-04 - val_loss: 0.0965 - val_MSE: 0.0965\n",
      "Epoch 61/100\n",
      "1/1 [==============================] - 0s 400ms/step - loss: 3.7771e-04 - MSE: 3.7771e-04 - val_loss: 0.0986 - val_MSE: 0.0986\n"
     ]
    },
    {
     "name": "stdout",
     "output_type": "stream",
     "text": [
      "Epoch 62/100\n",
      "1/1 [==============================] - 0s 377ms/step - loss: 1.1744e-04 - MSE: 1.1744e-04 - val_loss: 0.1004 - val_MSE: 0.1004\n",
      "Epoch 63/100\n",
      "1/1 [==============================] - 0s 373ms/step - loss: 9.2707e-06 - MSE: 9.2707e-06 - val_loss: 0.1020 - val_MSE: 0.1020\n",
      "Epoch 64/100\n",
      "1/1 [==============================] - 0s 426ms/step - loss: 1.9854e-04 - MSE: 1.9854e-04 - val_loss: 0.1038 - val_MSE: 0.1038\n",
      "Epoch 65/100\n",
      "1/1 [==============================] - 0s 431ms/step - loss: 4.7905e-04 - MSE: 4.7905e-04 - val_loss: 0.1057 - val_MSE: 0.1057\n",
      "Epoch 66/100\n",
      "1/1 [==============================] - 0s 408ms/step - loss: 1.7106e-04 - MSE: 1.7106e-04 - val_loss: 0.1072 - val_MSE: 0.1072\n",
      "Epoch 67/100\n",
      "1/1 [==============================] - 0s 403ms/step - loss: 7.0801e-04 - MSE: 7.0801e-04 - val_loss: 0.1082 - val_MSE: 0.1082\n",
      "Epoch 68/100\n",
      "1/1 [==============================] - 0s 426ms/step - loss: 1.6286e-04 - MSE: 1.6286e-04 - val_loss: 0.1089 - val_MSE: 0.1089\n",
      "Epoch 69/100\n",
      "1/1 [==============================] - 0s 381ms/step - loss: 6.5072e-04 - MSE: 6.5072e-04 - val_loss: 0.1091 - val_MSE: 0.1091\n",
      "Epoch 70/100\n",
      "1/1 [==============================] - 0s 389ms/step - loss: 1.5044e-06 - MSE: 1.5044e-06 - val_loss: 0.1094 - val_MSE: 0.1094\n",
      "Epoch 71/100\n",
      "1/1 [==============================] - 0s 392ms/step - loss: 3.5637e-04 - MSE: 3.5637e-04 - val_loss: 0.1093 - val_MSE: 0.1093\n",
      "Epoch 72/100\n",
      "1/1 [==============================] - 0s 396ms/step - loss: 3.4507e-04 - MSE: 3.4507e-04 - val_loss: 0.1090 - val_MSE: 0.1090\n",
      "Epoch 73/100\n",
      "1/1 [==============================] - 0s 350ms/step - loss: 2.0041e-04 - MSE: 2.0041e-04 - val_loss: 0.1085 - val_MSE: 0.1085\n",
      "Epoch 74/100\n",
      "1/1 [==============================] - 0s 419ms/step - loss: 0.0018 - MSE: 0.0018 - val_loss: 0.1075 - val_MSE: 0.1075\n",
      "Epoch 75/100\n",
      "1/1 [==============================] - 0s 402ms/step - loss: 7.5795e-04 - MSE: 7.5795e-04 - val_loss: 0.1062 - val_MSE: 0.1062\n",
      "Epoch 76/100\n",
      "1/1 [==============================] - 0s 406ms/step - loss: 1.9846e-05 - MSE: 1.9846e-05 - val_loss: 0.1051 - val_MSE: 0.1051\n",
      "Epoch 77/100\n",
      "1/1 [==============================] - 0s 444ms/step - loss: 6.4610e-05 - MSE: 6.4610e-05 - val_loss: 0.1040 - val_MSE: 0.1040\n",
      "Epoch 78/100\n",
      "1/1 [==============================] - 0s 390ms/step - loss: 9.8980e-06 - MSE: 9.8980e-06 - val_loss: 0.1030 - val_MSE: 0.1030\n",
      "Epoch 79/100\n",
      "1/1 [==============================] - 0s 396ms/step - loss: 3.3278e-05 - MSE: 3.3278e-05 - val_loss: 0.1021 - val_MSE: 0.1021\n",
      "Epoch 80/100\n",
      "1/1 [==============================] - 0s 398ms/step - loss: 5.0178e-04 - MSE: 5.0178e-04 - val_loss: 0.1008 - val_MSE: 0.1008\n",
      "Epoch 81/100\n",
      "1/1 [==============================] - 0s 402ms/step - loss: 4.9786e-04 - MSE: 4.9786e-04 - val_loss: 0.0994 - val_MSE: 0.0994\n",
      "Epoch 82/100\n",
      "1/1 [==============================] - 0s 481ms/step - loss: 2.7872e-05 - MSE: 2.7872e-05 - val_loss: 0.0980 - val_MSE: 0.0980\n",
      "Epoch 83/100\n",
      "1/1 [==============================] - 0s 394ms/step - loss: 9.3953e-06 - MSE: 9.3953e-06 - val_loss: 0.0969 - val_MSE: 0.0969\n",
      "Epoch 84/100\n",
      "1/1 [==============================] - 0s 410ms/step - loss: 7.2274e-07 - MSE: 7.2274e-07 - val_loss: 0.0958 - val_MSE: 0.0958\n",
      "Epoch 85/100\n",
      "1/1 [==============================] - 0s 440ms/step - loss: 1.5634e-04 - MSE: 1.5634e-04 - val_loss: 0.0947 - val_MSE: 0.0947\n",
      "Epoch 86/100\n",
      "1/1 [==============================] - 0s 388ms/step - loss: 6.7945e-05 - MSE: 6.7945e-05 - val_loss: 0.0938 - val_MSE: 0.0938\n",
      "Epoch 87/100\n",
      "1/1 [==============================] - 0s 399ms/step - loss: 4.2518e-04 - MSE: 4.2518e-04 - val_loss: 0.0927 - val_MSE: 0.0927\n",
      "Epoch 88/100\n",
      "1/1 [==============================] - 0s 376ms/step - loss: 3.2670e-04 - MSE: 3.2670e-04 - val_loss: 0.0914 - val_MSE: 0.0914\n",
      "Epoch 89/100\n",
      "1/1 [==============================] - 0s 359ms/step - loss: 3.7632e-05 - MSE: 3.7632e-05 - val_loss: 0.0902 - val_MSE: 0.0902\n",
      "Epoch 90/100\n",
      "1/1 [==============================] - 0s 432ms/step - loss: 3.1398e-06 - MSE: 3.1398e-06 - val_loss: 0.0891 - val_MSE: 0.0891\n",
      "Epoch 91/100\n",
      "1/1 [==============================] - 0s 407ms/step - loss: 2.0589e-05 - MSE: 2.0589e-05 - val_loss: 0.0881 - val_MSE: 0.0881\n",
      "Epoch 92/100\n",
      "1/1 [==============================] - 0s 369ms/step - loss: 1.0673e-04 - MSE: 1.0673e-04 - val_loss: 0.0869 - val_MSE: 0.0869\n",
      "Epoch 93/100\n",
      "1/1 [==============================] - 0s 353ms/step - loss: 1.9596e-04 - MSE: 1.9596e-04 - val_loss: 0.0857 - val_MSE: 0.0857\n",
      "Epoch 94/100\n",
      "1/1 [==============================] - 0s 490ms/step - loss: 3.4550e-05 - MSE: 3.4550e-05 - val_loss: 0.0847 - val_MSE: 0.0847\n",
      "Epoch 95/100\n",
      "1/1 [==============================] - 0s 353ms/step - loss: 4.4664e-04 - MSE: 4.4664e-04 - val_loss: 0.0842 - val_MSE: 0.0842\n",
      "Epoch 96/100\n",
      "1/1 [==============================] - 0s 366ms/step - loss: 9.9542e-04 - MSE: 9.9542e-04 - val_loss: 0.0833 - val_MSE: 0.0833\n",
      "Epoch 97/100\n",
      "1/1 [==============================] - 0s 389ms/step - loss: 6.0864e-05 - MSE: 6.0864e-05 - val_loss: 0.0826 - val_MSE: 0.0826\n",
      "Epoch 98/100\n",
      "1/1 [==============================] - 0s 379ms/step - loss: 1.3296e-04 - MSE: 1.3296e-04 - val_loss: 0.0823 - val_MSE: 0.0823\n",
      "Epoch 99/100\n",
      "1/1 [==============================] - 0s 389ms/step - loss: 1.1334e-05 - MSE: 1.1334e-05 - val_loss: 0.0820 - val_MSE: 0.0820\n",
      "Epoch 100/100\n",
      "1/1 [==============================] - 0s 423ms/step - loss: 2.1678e-04 - MSE: 2.1678e-04 - val_loss: 0.0820 - val_MSE: 0.0820\n",
      "1/1 [==============================] - 0s 63ms/step - loss: 0.0820 - MSE: 0.0820\n",
      "\n",
      "Test loss: 0.08196721225976944\n"
     ]
    }
   ],
   "source": [
    "history = LSTM.fit(x, y, epochs=100, batch_size=16, verbose=1, validation_data=(val_X, val_y))\n",
    "score = LSTM.evaluate(val_X, val_y, verbose=1)\n",
    "\n",
    "# print performance\n",
    "print()\n",
    "print('Test loss:', score[0])"
   ]
  },
  {
   "cell_type": "code",
   "execution_count": 45,
   "metadata": {},
   "outputs": [
    {
     "ename": "AttributeError",
     "evalue": "type object 'History' has no attribute 'history'",
     "output_type": "error",
     "traceback": [
      "\u001b[0;31m---------------------------------------------------------------------------\u001b[0m",
      "\u001b[0;31mAttributeError\u001b[0m                            Traceback (most recent call last)",
      "\u001b[0;32m<ipython-input-45-ed4eb8c96520>\u001b[0m in \u001b[0;36m<module>\u001b[0;34m\u001b[0m\n\u001b[0;32m----> 1\u001b[0;31m \u001b[0mloss_per_epoch\u001b[0m \u001b[0;34m=\u001b[0m \u001b[0mtf\u001b[0m\u001b[0;34m.\u001b[0m\u001b[0mkeras\u001b[0m\u001b[0;34m.\u001b[0m\u001b[0mcallbacks\u001b[0m\u001b[0;34m.\u001b[0m\u001b[0mHistory\u001b[0m\u001b[0;34m.\u001b[0m\u001b[0mhistory\u001b[0m\u001b[0;34m[\u001b[0m\u001b[0;34m'loss'\u001b[0m\u001b[0;34m]\u001b[0m\u001b[0;34m\u001b[0m\u001b[0;34m\u001b[0m\u001b[0m\n\u001b[0m\u001b[1;32m      2\u001b[0m \u001b[0mplt\u001b[0m\u001b[0;34m.\u001b[0m\u001b[0mplot\u001b[0m\u001b[0;34m(\u001b[0m\u001b[0mrange\u001b[0m\u001b[0;34m(\u001b[0m\u001b[0mlen\u001b[0m\u001b[0;34m(\u001b[0m\u001b[0mloss_per_epoch\u001b[0m\u001b[0;34m)\u001b[0m\u001b[0;34m)\u001b[0m\u001b[0;34m,\u001b[0m \u001b[0mloss_per_epoch\u001b[0m\u001b[0;34m)\u001b[0m\u001b[0;34m\u001b[0m\u001b[0;34m\u001b[0m\u001b[0m\n",
      "\u001b[0;31mAttributeError\u001b[0m: type object 'History' has no attribute 'history'"
     ]
    }
   ],
   "source": [
    "loss_per_epoch = tf.keras.callbacks.History.history['loss']\n",
    "plt.plot(range(len(loss_per_epoch)), loss_per_epoch)"
   ]
  },
  {
   "cell_type": "code",
   "execution_count": 46,
   "metadata": {},
   "outputs": [
    {
     "data": {
      "text/plain": [
       "<matplotlib.legend.Legend at 0x7fc7b3e68610>"
      ]
     },
     "execution_count": 46,
     "metadata": {},
     "output_type": "execute_result"
    },
    {
     "data": {
      "image/png": "[encoded data removed]",
      "text/plain": [
       "<Figure size 432x288 with 1 Axes>"
      ]
     },
     "metadata": {
      "needs_background": "light"
     },
     "output_type": "display_data"
    }
   ],
   "source": [
    "import matplotlib.pyplot as plt\n",
    "plt.plot(history.history['loss'], label='train')\n",
    "plt.plot(history.history['val_loss'], label='val')\n",
    "plt.legend()"
   ]
  },
  {
   "cell_type": "code",
   "execution_count": null,
   "metadata": {},
   "outputs": [],
   "source": []
  }
 ],
 "metadata": {
  "kernelspec": {
   "display_name": "Python 3",
   "language": "python",
   "name": "python3"
  },
  "language_info": {
   "codemirror_mode": {
    "name": "ipython",
    "version": 3
   },
   "file_extension": ".py",
   "mimetype": "text/x-python",
   "name": "python",
   "nbconvert_exporter": "python",
   "pygments_lexer": "ipython3",
   "version": "3.8.3"
  }
 },
 "nbformat": 4,
 "nbformat_minor": 4
}
