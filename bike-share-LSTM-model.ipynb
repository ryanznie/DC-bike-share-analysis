{
 "cells": [
  {
   "cell_type": "markdown",
   "metadata": {},
   "source": [
    "# LSTM Model"
   ]
  },
  {
   "cell_type": "code",
   "execution_count": 21,
   "metadata": {},
   "outputs": [
    {
     "data": {
      "text/plain": [
       "DatetimeIndex(['2011-01-01', '2011-01-02', '2011-01-03', '2011-01-04',\n",
       "               '2011-01-05', '2011-01-06', '2011-01-07', '2011-01-08',\n",
       "               '2011-01-09', '2011-01-10',\n",
       "               ...\n",
       "               '2018-12-22', '2018-12-23', '2018-12-24', '2018-12-25',\n",
       "               '2018-12-26', '2018-12-27', '2018-12-28', '2018-12-29',\n",
       "               '2018-12-30', '2018-12-31'],\n",
       "              dtype='datetime64[ns]', name='date', length=2922, freq=None)"
      ]
     },
     "execution_count": 21,
     "metadata": {},
     "output_type": "execute_result"
    }
   ],
   "source": [
    "import pandas as pd\n",
    "ts = pd.read_csv(\"bike_sharing_dataset.csv\", index_col = 0, usecols=['date','total_cust'], parse_dates=True)\n",
    "ts.index"
   ]
  },
  {
   "cell_type": "code",
   "execution_count": 22,
   "metadata": {},
   "outputs": [
    {
     "data": {
      "text/plain": [
       "total_cust    4\n",
       "dtype: int64"
      ]
     },
     "execution_count": 22,
     "metadata": {},
     "output_type": "execute_result"
    }
   ],
   "source": [
    "ts.isnull().sum()"
   ]
  },
  {
   "cell_type": "code",
   "execution_count": 23,
   "metadata": {},
   "outputs": [
    {
     "data": {
      "text/plain": [
       "total_cust    0\n",
       "dtype: int64"
      ]
     },
     "execution_count": 23,
     "metadata": {},
     "output_type": "execute_result"
    }
   ],
   "source": [
    "ts.fillna(ts.median(), inplace = True)\n",
    "ts.isnull().sum()"
   ]
  },
  {
   "cell_type": "code",
   "execution_count": 24,
   "metadata": {},
   "outputs": [
    {
     "data": {
      "text/plain": [
       "<AxesSubplot:xlabel='date'>"
      ]
     },
     "execution_count": 24,
     "metadata": {},
     "output_type": "execute_result"
    },
    {
     "data": {
      "image/png": "[encoded data removed]",
      "text/plain": [
       "<Figure size 432x288 with 1 Axes>"
      ]
     },
     "metadata": {
      "needs_background": "light"
     },
     "output_type": "display_data"
    }
   ],
   "source": [
    "ts.plot()\n",
    "\n",
    "# from statsmodels.tsa.seasonal import seasonal_decompose\n",
    "# from matplotlib import pyplot as plt\n",
    "\n",
    "# plt.figure(figsize=(16,8))\n",
    "# res = seasonal_decompose(ts['total_cust'])\n",
    "# res.plot();"
   ]
  },
  {
   "cell_type": "code",
   "execution_count": 25,
   "metadata": {},
   "outputs": [
    {
     "name": "stdout",
     "output_type": "stream",
     "text": [
      "2922\n"
     ]
    },
    {
     "data": {
      "text/html": [
       "<div>\n",
       "<style scoped>\n",
       "    .dataframe tbody tr th:only-of-type {\n",
       "        vertical-align: middle;\n",
       "    }\n",
       "\n",
       "    .dataframe tbody tr th {\n",
       "        vertical-align: top;\n",
       "    }\n",
       "\n",
       "    .dataframe thead th {\n",
       "        text-align: right;\n",
       "    }\n",
       "</style>\n",
       "<table border=\"1\" class=\"dataframe\">\n",
       "  <thead>\n",
       "    <tr style=\"text-align: right;\">\n",
       "      <th></th>\n",
       "      <th>total_cust</th>\n",
       "    </tr>\n",
       "    <tr>\n",
       "      <th>date</th>\n",
       "      <th></th>\n",
       "    </tr>\n",
       "  </thead>\n",
       "  <tbody>\n",
       "    <tr>\n",
       "      <th>2011-01-01</th>\n",
       "      <td>959.0</td>\n",
       "    </tr>\n",
       "    <tr>\n",
       "      <th>2011-01-02</th>\n",
       "      <td>781.0</td>\n",
       "    </tr>\n",
       "    <tr>\n",
       "      <th>2011-01-03</th>\n",
       "      <td>1301.0</td>\n",
       "    </tr>\n",
       "    <tr>\n",
       "      <th>2011-01-04</th>\n",
       "      <td>1536.0</td>\n",
       "    </tr>\n",
       "    <tr>\n",
       "      <th>2011-01-05</th>\n",
       "      <td>1571.0</td>\n",
       "    </tr>\n",
       "    <tr>\n",
       "      <th>...</th>\n",
       "      <td>...</td>\n",
       "    </tr>\n",
       "    <tr>\n",
       "      <th>2018-12-27</th>\n",
       "      <td>5430.0</td>\n",
       "    </tr>\n",
       "    <tr>\n",
       "      <th>2018-12-28</th>\n",
       "      <td>2125.0</td>\n",
       "    </tr>\n",
       "    <tr>\n",
       "      <th>2018-12-29</th>\n",
       "      <td>6008.0</td>\n",
       "    </tr>\n",
       "    <tr>\n",
       "      <th>2018-12-30</th>\n",
       "      <td>4929.0</td>\n",
       "    </tr>\n",
       "    <tr>\n",
       "      <th>2018-12-31</th>\n",
       "      <td>2401.0</td>\n",
       "    </tr>\n",
       "  </tbody>\n",
       "</table>\n",
       "<p>2922 rows × 1 columns</p>\n",
       "</div>"
      ],
      "text/plain": [
       "            total_cust\n",
       "date                  \n",
       "2011-01-01       959.0\n",
       "2011-01-02       781.0\n",
       "2011-01-03      1301.0\n",
       "2011-01-04      1536.0\n",
       "2011-01-05      1571.0\n",
       "...                ...\n",
       "2018-12-27      5430.0\n",
       "2018-12-28      2125.0\n",
       "2018-12-29      6008.0\n",
       "2018-12-30      4929.0\n",
       "2018-12-31      2401.0\n",
       "\n",
       "[2922 rows x 1 columns]"
      ]
     },
     "execution_count": 25,
     "metadata": {},
     "output_type": "execute_result"
    }
   ],
   "source": [
    "print(len(ts))\n",
    "ts"
   ]
  },
  {
   "cell_type": "code",
   "execution_count": 26,
   "metadata": {},
   "outputs": [],
   "source": [
    "# preprocess data\n",
    "from sklearn.preprocessing import MinMaxScaler\n",
    "\n",
    "scaler = MinMaxScaler()\n",
    "ts_sc = scaler.fit_transform(ts)\n",
    "\n",
    "train = ts_sc[:2337]\n",
    "val = ts_sc[2337:]"
   ]
  },
  {
   "cell_type": "code",
   "execution_count": 42,
   "metadata": {},
   "outputs": [],
   "source": [
    "import tensorflow as tf\n",
    "from tensorflow import keras\n",
    "from keras.preprocessing.sequence import TimeseriesGenerator\n",
    "\n",
    "n_input = 100\n",
    "n_feats = 1\n",
    "generator = TimeseriesGenerator(train, train, length=n_input, batch_size=1)\n",
    "generator_val = TimeseriesGenerator(val, val, length=n_input, batch_size=1)"
   ]
  },
  {
   "cell_type": "code",
   "execution_count": 43,
   "metadata": {},
   "outputs": [],
   "source": [
    "x, y = generator[0]\n",
    "val_X, val_y = generator_val[0]"
   ]
  },
  {
   "cell_type": "code",
   "execution_count": 48,
   "metadata": {},
   "outputs": [
    {
     "name": "stdout",
     "output_type": "stream",
     "text": [
      "created LSTM\n",
      "compiled LSTM\n",
      "Model: \"sequential_4\"\n",
      "_________________________________________________________________\n",
      "Layer (type)                 Output Shape              Param #   \n",
      "=================================================================\n",
      "lstm_4 (LSTM)                (None, 128)               66560     \n",
      "_________________________________________________________________\n",
      "dense_5 (Dense)              (None, 16)                2064      \n",
      "_________________________________________________________________\n",
      "dense_6 (Dense)              (None, 1)                 17        \n",
      "=================================================================\n",
      "Total params: 68,641\n",
      "Trainable params: 68,641\n",
      "Non-trainable params: 0\n",
      "_________________________________________________________________\n"
     ]
    }
   ],
   "source": [
    "def LSTM(unit):\n",
    "    \"\"\"Creates LSTM architecture\"\"\"\n",
    "    \n",
    "    model = tf.keras.Sequential()\n",
    "    model.add(tf.keras.layers.LSTM(unit, input_shape = (n_input, n_feats), activation = 'relu'))\n",
    "    \n",
    "    model.add(tf.keras.layers.Dense(16, activation = 'linear'))\n",
    "    model.add(tf.keras.layers.Dense(1, activation = 'linear'))\n",
    "    print(\"created LSTM\")\n",
    "    \n",
    "    model.compile(loss=tf.keras.losses.MeanSquaredError(), optimizer=tf.keras.optimizers.Adam(), metrics=['MSE'])\n",
    "    print(\"compiled LSTM\")\n",
    "    \n",
    "    return model\n",
    "\n",
    "LSTM = LSTM(128)\n",
    "LSTM.summary()"
   ]
  },
  {
   "cell_type": "code",
   "execution_count": 49,
   "metadata": {},
   "outputs": [
    {
     "name": "stdout",
     "output_type": "stream",
     "text": [
      "Epoch 1/100\n",
      "1/1 [==============================] - 1s 1s/step - loss: 0.0312 - MSE: 0.0312 - val_loss: 0.6069 - val_MSE: 0.6069\n",
      "Epoch 2/100\n",
      "1/1 [==============================] - 0s 61ms/step - loss: 0.0246 - MSE: 0.0246 - val_loss: 0.5418 - val_MSE: 0.5418\n",
      "Epoch 3/100\n",
      "1/1 [==============================] - 0s 67ms/step - loss: 0.0190 - MSE: 0.0190 - val_loss: 0.4818 - val_MSE: 0.4818\n",
      "Epoch 4/100\n",
      "1/1 [==============================] - 0s 70ms/step - loss: 0.0142 - MSE: 0.0142 - val_loss: 0.4236 - val_MSE: 0.4236\n",
      "Epoch 5/100\n",
      "1/1 [==============================] - 0s 67ms/step - loss: 0.0101 - MSE: 0.0101 - val_loss: 0.3671 - val_MSE: 0.3671\n",
      "Epoch 6/100\n",
      "1/1 [==============================] - 0s 93ms/step - loss: 0.0067 - MSE: 0.0067 - val_loss: 0.3115 - val_MSE: 0.3115\n",
      "Epoch 7/100\n",
      "1/1 [==============================] - 0s 103ms/step - loss: 0.0038 - MSE: 0.0038 - val_loss: 0.2569 - val_MSE: 0.2569\n",
      "Epoch 8/100\n",
      "1/1 [==============================] - 0s 68ms/step - loss: 0.0017 - MSE: 0.0017 - val_loss: 0.2051 - val_MSE: 0.2051\n",
      "Epoch 9/100\n",
      "1/1 [==============================] - 0s 91ms/step - loss: 3.4378e-04 - MSE: 3.4378e-04 - val_loss: 0.1573 - val_MSE: 0.1573\n",
      "Epoch 10/100\n",
      "1/1 [==============================] - 0s 88ms/step - loss: 2.7660e-05 - MSE: 2.7660e-05 - val_loss: 0.1170 - val_MSE: 0.1170\n",
      "Epoch 11/100\n",
      "1/1 [==============================] - 0s 88ms/step - loss: 7.9250e-04 - MSE: 7.9250e-04 - val_loss: 0.0914 - val_MSE: 0.0914\n",
      "Epoch 12/100\n",
      "1/1 [==============================] - 0s 92ms/step - loss: 0.0020 - MSE: 0.0020 - val_loss: 0.0818 - val_MSE: 0.0818\n",
      "Epoch 13/100\n",
      "1/1 [==============================] - 0s 91ms/step - loss: 0.0028 - MSE: 0.0028 - val_loss: 0.0839 - val_MSE: 0.0839\n",
      "Epoch 14/100\n",
      "1/1 [==============================] - 0s 103ms/step - loss: 0.0028 - MSE: 0.0028 - val_loss: 0.0940 - val_MSE: 0.0940\n",
      "Epoch 15/100\n",
      "1/1 [==============================] - 0s 66ms/step - loss: 0.0023 - MSE: 0.0023 - val_loss: 0.1091 - val_MSE: 0.1091\n",
      "Epoch 16/100\n",
      "1/1 [==============================] - 0s 90ms/step - loss: 0.0016 - MSE: 0.0016 - val_loss: 0.1271 - val_MSE: 0.1271\n",
      "Epoch 17/100\n",
      "1/1 [==============================] - 0s 75ms/step - loss: 9.3194e-04 - MSE: 9.3194e-04 - val_loss: 0.1463 - val_MSE: 0.1463\n",
      "Epoch 18/100\n",
      "1/1 [==============================] - 0s 84ms/step - loss: 4.2409e-04 - MSE: 4.2409e-04 - val_loss: 0.1654 - val_MSE: 0.1654\n",
      "Epoch 19/100\n",
      "1/1 [==============================] - 0s 71ms/step - loss: 1.2263e-04 - MSE: 1.2263e-04 - val_loss: 0.1835 - val_MSE: 0.1835\n",
      "Epoch 20/100\n",
      "1/1 [==============================] - 0s 71ms/step - loss: 5.8071e-06 - MSE: 5.8071e-06 - val_loss: 0.1998 - val_MSE: 0.1998\n",
      "Epoch 21/100\n",
      "1/1 [==============================] - 0s 76ms/step - loss: 2.7091e-05 - MSE: 2.7091e-05 - val_loss: 0.2139 - val_MSE: 0.2139\n",
      "Epoch 22/100\n",
      "1/1 [==============================] - 0s 107ms/step - loss: 1.3100e-04 - MSE: 1.3100e-04 - val_loss: 0.2252 - val_MSE: 0.2252\n",
      "Epoch 23/100\n",
      "1/1 [==============================] - 0s 89ms/step - loss: 2.5299e-04 - MSE: 2.5299e-04 - val_loss: 0.2336 - val_MSE: 0.2336\n",
      "Epoch 24/100\n",
      "1/1 [==============================] - 0s 114ms/step - loss: 3.5032e-04 - MSE: 3.5032e-04 - val_loss: 0.2393 - val_MSE: 0.2393\n",
      "Epoch 25/100\n",
      "1/1 [==============================] - 0s 98ms/step - loss: 4.0989e-04 - MSE: 4.0989e-04 - val_loss: 0.2427 - val_MSE: 0.2427\n",
      "Epoch 26/100\n",
      "1/1 [==============================] - 0s 101ms/step - loss: 4.2902e-04 - MSE: 4.2902e-04 - val_loss: 0.2440 - val_MSE: 0.2440\n",
      "Epoch 27/100\n",
      "1/1 [==============================] - 0s 128ms/step - loss: 4.1253e-04 - MSE: 4.1253e-04 - val_loss: 0.2437 - val_MSE: 0.2437\n",
      "Epoch 28/100\n",
      "1/1 [==============================] - 0s 94ms/step - loss: 3.6883e-04 - MSE: 3.6883e-04 - val_loss: 0.2422 - val_MSE: 0.2422\n",
      "Epoch 29/100\n",
      "1/1 [==============================] - 0s 67ms/step - loss: 3.0558e-04 - MSE: 3.0558e-04 - val_loss: 0.2397 - val_MSE: 0.2397\n",
      "Epoch 30/100\n",
      "1/1 [==============================] - 0s 104ms/step - loss: 2.3433e-04 - MSE: 2.3433e-04 - val_loss: 0.2365 - val_MSE: 0.2365\n",
      "Epoch 31/100\n",
      "1/1 [==============================] - 0s 118ms/step - loss: 1.6405e-04 - MSE: 1.6405e-04 - val_loss: 0.2327 - val_MSE: 0.2327\n",
      "Epoch 32/100\n",
      "1/1 [==============================] - 0s 93ms/step - loss: 1.0213e-04 - MSE: 1.0213e-04 - val_loss: 0.2286 - val_MSE: 0.2286\n",
      "Epoch 33/100\n",
      "1/1 [==============================] - 0s 99ms/step - loss: 5.2671e-05 - MSE: 5.2671e-05 - val_loss: 0.2244 - val_MSE: 0.2244\n",
      "Epoch 34/100\n",
      "1/1 [==============================] - 0s 135ms/step - loss: 1.9171e-05 - MSE: 1.9171e-05 - val_loss: 0.2202 - val_MSE: 0.2202\n",
      "Epoch 35/100\n",
      "1/1 [==============================] - 0s 81ms/step - loss: 2.4921e-06 - MSE: 2.4921e-06 - val_loss: 0.2163 - val_MSE: 0.2163\n",
      "Epoch 36/100\n",
      "1/1 [==============================] - 0s 76ms/step - loss: 1.0716e-06 - MSE: 1.0716e-06 - val_loss: 0.2129 - val_MSE: 0.2129\n",
      "Epoch 37/100\n",
      "1/1 [==============================] - 0s 82ms/step - loss: 1.1334e-05 - MSE: 1.1334e-05 - val_loss: 0.2100 - val_MSE: 0.2100\n",
      "Epoch 38/100\n",
      "1/1 [==============================] - 0s 74ms/step - loss: 2.8463e-05 - MSE: 2.8463e-05 - val_loss: 0.2079 - val_MSE: 0.2079\n",
      "Epoch 39/100\n",
      "1/1 [==============================] - 0s 83ms/step - loss: 4.7323e-05 - MSE: 4.7323e-05 - val_loss: 0.2065 - val_MSE: 0.2065\n",
      "Epoch 40/100\n",
      "1/1 [==============================] - 0s 84ms/step - loss: 6.3362e-05 - MSE: 6.3362e-05 - val_loss: 0.2059 - val_MSE: 0.2059\n",
      "Epoch 41/100\n",
      "1/1 [==============================] - 0s 68ms/step - loss: 7.3315e-05 - MSE: 7.3315e-05 - val_loss: 0.2061 - val_MSE: 0.2061\n",
      "Epoch 42/100\n",
      "1/1 [==============================] - 0s 81ms/step - loss: 7.5714e-05 - MSE: 7.5714e-05 - val_loss: 0.2070 - val_MSE: 0.2070\n",
      "Epoch 43/100\n",
      "1/1 [==============================] - 0s 80ms/step - loss: 7.0751e-05 - MSE: 7.0751e-05 - val_loss: 0.2085 - val_MSE: 0.2085\n",
      "Epoch 44/100\n",
      "1/1 [==============================] - 0s 73ms/step - loss: 6.0019e-05 - MSE: 6.0019e-05 - val_loss: 0.2105 - val_MSE: 0.2105\n",
      "Epoch 45/100\n",
      "1/1 [==============================] - 0s 86ms/step - loss: 4.5931e-05 - MSE: 4.5931e-05 - val_loss: 0.2129 - val_MSE: 0.2129\n",
      "Epoch 46/100\n",
      "1/1 [==============================] - 0s 90ms/step - loss: 3.1124e-05 - MSE: 3.1124e-05 - val_loss: 0.2155 - val_MSE: 0.2155\n",
      "Epoch 47/100\n",
      "1/1 [==============================] - 0s 79ms/step - loss: 1.7918e-05 - MSE: 1.7918e-05 - val_loss: 0.2183 - val_MSE: 0.2183\n",
      "Epoch 48/100\n",
      "1/1 [==============================] - 0s 88ms/step - loss: 7.9461e-06 - MSE: 7.9461e-06 - val_loss: 0.2210 - val_MSE: 0.2210\n",
      "Epoch 49/100\n",
      "1/1 [==============================] - 0s 96ms/step - loss: 1.9912e-06 - MSE: 1.9912e-06 - val_loss: 0.2235 - val_MSE: 0.2235\n",
      "Epoch 50/100\n",
      "1/1 [==============================] - 0s 100ms/step - loss: 5.6784e-09 - MSE: 5.6784e-09 - val_loss: 0.2259 - val_MSE: 0.2259\n",
      "Epoch 51/100\n",
      "1/1 [==============================] - 0s 71ms/step - loss: 1.2844e-06 - MSE: 1.2844e-06 - val_loss: 0.2279 - val_MSE: 0.2279\n",
      "Epoch 52/100\n",
      "1/1 [==============================] - 0s 66ms/step - loss: 4.7154e-06 - MSE: 4.7154e-06 - val_loss: 0.2295 - val_MSE: 0.2295\n",
      "Epoch 53/100\n",
      "1/1 [==============================] - 0s 56ms/step - loss: 9.0484e-06 - MSE: 9.0484e-06 - val_loss: 0.2308 - val_MSE: 0.2308\n",
      "Epoch 54/100\n",
      "1/1 [==============================] - 0s 89ms/step - loss: 1.3131e-05 - MSE: 1.3131e-05 - val_loss: 0.2316 - val_MSE: 0.2316\n",
      "Epoch 55/100\n",
      "1/1 [==============================] - 0s 64ms/step - loss: 1.6086e-05 - MSE: 1.6086e-05 - val_loss: 0.2320 - val_MSE: 0.2320\n",
      "Epoch 56/100\n",
      "1/1 [==============================] - 0s 56ms/step - loss: 1.7407e-05 - MSE: 1.7407e-05 - val_loss: 0.2320 - val_MSE: 0.2320\n",
      "Epoch 57/100\n",
      "1/1 [==============================] - 0s 70ms/step - loss: 1.6978e-05 - MSE: 1.6978e-05 - val_loss: 0.2317 - val_MSE: 0.2317\n",
      "Epoch 58/100\n",
      "1/1 [==============================] - 0s 71ms/step - loss: 1.5024e-05 - MSE: 1.5024e-05 - val_loss: 0.2311 - val_MSE: 0.2311\n",
      "Epoch 59/100\n",
      "1/1 [==============================] - 0s 87ms/step - loss: 1.2019e-05 - MSE: 1.2019e-05 - val_loss: 0.2302 - val_MSE: 0.2302\n",
      "Epoch 60/100\n",
      "1/1 [==============================] - 0s 66ms/step - loss: 8.5583e-06 - MSE: 8.5583e-06 - val_loss: 0.2291 - val_MSE: 0.2291\n"
     ]
    },
    {
     "name": "stdout",
     "output_type": "stream",
     "text": [
      "Epoch 61/100\n",
      "1/1 [==============================] - 0s 89ms/step - loss: 5.2377e-06 - MSE: 5.2377e-06 - val_loss: 0.2279 - val_MSE: 0.2279\n",
      "Epoch 62/100\n",
      "1/1 [==============================] - 0s 61ms/step - loss: 2.5432e-06 - MSE: 2.5432e-06 - val_loss: 0.2267 - val_MSE: 0.2267\n",
      "Epoch 63/100\n",
      "1/1 [==============================] - 0s 67ms/step - loss: 7.7945e-07 - MSE: 7.7945e-07 - val_loss: 0.2256 - val_MSE: 0.2256\n",
      "Epoch 64/100\n",
      "1/1 [==============================] - 0s 62ms/step - loss: 3.6164e-08 - MSE: 3.6164e-08 - val_loss: 0.2245 - val_MSE: 0.2245\n",
      "Epoch 65/100\n",
      "1/1 [==============================] - 0s 61ms/step - loss: 2.0202e-07 - MSE: 2.0202e-07 - val_loss: 0.2235 - val_MSE: 0.2235\n",
      "Epoch 66/100\n",
      "1/1 [==============================] - 0s 57ms/step - loss: 1.0141e-06 - MSE: 1.0141e-06 - val_loss: 0.2228 - val_MSE: 0.2228\n",
      "Epoch 67/100\n",
      "1/1 [==============================] - 0s 62ms/step - loss: 2.1308e-06 - MSE: 2.1308e-06 - val_loss: 0.2222 - val_MSE: 0.2222\n",
      "Epoch 68/100\n",
      "1/1 [==============================] - 0s 76ms/step - loss: 3.2113e-06 - MSE: 3.2113e-06 - val_loss: 0.2219 - val_MSE: 0.2219\n",
      "Epoch 69/100\n",
      "1/1 [==============================] - 0s 65ms/step - loss: 3.9838e-06 - MSE: 3.9838e-06 - val_loss: 0.2218 - val_MSE: 0.2218\n",
      "Epoch 70/100\n",
      "1/1 [==============================] - 0s 76ms/step - loss: 4.2901e-06 - MSE: 4.2901e-06 - val_loss: 0.2219 - val_MSE: 0.2219\n",
      "Epoch 71/100\n",
      "1/1 [==============================] - 0s 92ms/step - loss: 4.1004e-06 - MSE: 4.1004e-06 - val_loss: 0.2222 - val_MSE: 0.2222\n",
      "Epoch 72/100\n",
      "1/1 [==============================] - 0s 78ms/step - loss: 3.4979e-06 - MSE: 3.4979e-06 - val_loss: 0.2227 - val_MSE: 0.2227\n",
      "Epoch 73/100\n",
      "1/1 [==============================] - 0s 93ms/step - loss: 2.6423e-06 - MSE: 2.6423e-06 - val_loss: 0.2233 - val_MSE: 0.2233\n",
      "Epoch 74/100\n",
      "1/1 [==============================] - 0s 76ms/step - loss: 1.7230e-06 - MSE: 1.7230e-06 - val_loss: 0.2239 - val_MSE: 0.2239\n",
      "Epoch 75/100\n",
      "1/1 [==============================] - 0s 85ms/step - loss: 9.1262e-07 - MSE: 9.1262e-07 - val_loss: 0.2246 - val_MSE: 0.2246\n",
      "Epoch 76/100\n",
      "1/1 [==============================] - 0s 60ms/step - loss: 3.3405e-07 - MSE: 3.3405e-07 - val_loss: 0.2253 - val_MSE: 0.2253\n",
      "Epoch 77/100\n",
      "1/1 [==============================] - 0s 79ms/step - loss: 4.1505e-08 - MSE: 4.1505e-08 - val_loss: 0.2259 - val_MSE: 0.2259\n",
      "Epoch 78/100\n",
      "1/1 [==============================] - 0s 96ms/step - loss: 2.1438e-08 - MSE: 2.1438e-08 - val_loss: 0.2265 - val_MSE: 0.2265\n",
      "Epoch 79/100\n",
      "1/1 [==============================] - 0s 89ms/step - loss: 2.0687e-07 - MSE: 2.0687e-07 - val_loss: 0.2269 - val_MSE: 0.2269\n",
      "Epoch 80/100\n",
      "1/1 [==============================] - 0s 76ms/step - loss: 5.0080e-07 - MSE: 5.0080e-07 - val_loss: 0.2273 - val_MSE: 0.2273\n",
      "Epoch 81/100\n",
      "1/1 [==============================] - 0s 75ms/step - loss: 8.0211e-07 - MSE: 8.0211e-07 - val_loss: 0.2275 - val_MSE: 0.2275\n",
      "Epoch 82/100\n",
      "1/1 [==============================] - 0s 69ms/step - loss: 1.0275e-06 - MSE: 1.0275e-06 - val_loss: 0.2276 - val_MSE: 0.2276\n",
      "Epoch 83/100\n",
      "1/1 [==============================] - 0s 81ms/step - loss: 1.1265e-06 - MSE: 1.1265e-06 - val_loss: 0.2276 - val_MSE: 0.2276\n",
      "Epoch 84/100\n",
      "1/1 [==============================] - 0s 73ms/step - loss: 1.0862e-06 - MSE: 1.0862e-06 - val_loss: 0.2275 - val_MSE: 0.2275\n",
      "Epoch 85/100\n",
      "1/1 [==============================] - 0s 81ms/step - loss: 9.2798e-07 - MSE: 9.2798e-07 - val_loss: 0.2272 - val_MSE: 0.2272\n",
      "Epoch 86/100\n",
      "1/1 [==============================] - 0s 93ms/step - loss: 6.9636e-07 - MSE: 6.9636e-07 - val_loss: 0.2269 - val_MSE: 0.2269\n",
      "Epoch 87/100\n",
      "1/1 [==============================] - 0s 93ms/step - loss: 4.4587e-07 - MSE: 4.4587e-07 - val_loss: 0.2266 - val_MSE: 0.2266\n",
      "Epoch 88/100\n",
      "1/1 [==============================] - 0s 77ms/step - loss: 2.2693e-07 - MSE: 2.2693e-07 - val_loss: 0.2263 - val_MSE: 0.2263\n",
      "Epoch 89/100\n",
      "1/1 [==============================] - 0s 95ms/step - loss: 7.5069e-08 - MSE: 7.5069e-08 - val_loss: 0.2259 - val_MSE: 0.2259\n",
      "Epoch 90/100\n",
      "1/1 [==============================] - 0s 65ms/step - loss: 5.4560e-09 - MSE: 5.4560e-09 - val_loss: 0.2256 - val_MSE: 0.2256\n",
      "Epoch 91/100\n",
      "1/1 [==============================] - 0s 68ms/step - loss: 1.2543e-08 - MSE: 1.2543e-08 - val_loss: 0.2253 - val_MSE: 0.2253\n",
      "Epoch 92/100\n",
      "1/1 [==============================] - 0s 95ms/step - loss: 7.4743e-08 - MSE: 7.4743e-08 - val_loss: 0.2251 - val_MSE: 0.2251\n",
      "Epoch 93/100\n",
      "1/1 [==============================] - 0s 74ms/step - loss: 1.6194e-07 - MSE: 1.6194e-07 - val_loss: 0.2249 - val_MSE: 0.2249\n",
      "Epoch 94/100\n",
      "1/1 [==============================] - 0s 95ms/step - loss: 2.4397e-07 - MSE: 2.4397e-07 - val_loss: 0.2248 - val_MSE: 0.2248\n",
      "Epoch 95/100\n",
      "1/1 [==============================] - 0s 94ms/step - loss: 2.9747e-07 - MSE: 2.9747e-07 - val_loss: 0.2248 - val_MSE: 0.2248\n",
      "Epoch 96/100\n",
      "1/1 [==============================] - 0s 94ms/step - loss: 3.1054e-07 - MSE: 3.1054e-07 - val_loss: 0.2249 - val_MSE: 0.2249\n",
      "Epoch 97/100\n",
      "1/1 [==============================] - 0s 83ms/step - loss: 2.8325e-07 - MSE: 2.8325e-07 - val_loss: 0.2250 - val_MSE: 0.2250\n",
      "Epoch 98/100\n",
      "1/1 [==============================] - 0s 66ms/step - loss: 2.2584e-07 - MSE: 2.2584e-07 - val_loss: 0.2251 - val_MSE: 0.2251\n",
      "Epoch 99/100\n",
      "1/1 [==============================] - 0s 76ms/step - loss: 1.5438e-07 - MSE: 1.5438e-07 - val_loss: 0.2253 - val_MSE: 0.2253\n",
      "Epoch 100/100\n",
      "1/1 [==============================] - 0s 98ms/step - loss: 8.5789e-08 - MSE: 8.5789e-08 - val_loss: 0.2255 - val_MSE: 0.2255\n",
      "1/1 [==============================] - 0s 36ms/step - loss: 0.2255 - MSE: 0.2255\n",
      "\n",
      "Test loss: 0.2254871279001236\n",
      "Test accuracy: 0.2254871279001236\n"
     ]
    }
   ],
   "source": [
    "LSTM.fit(x, y, epochs=100, batch_size=16, verbose=1, validation_data=(val_X, val_y))\n",
    "score = LSTM.evaluate(val_X, val_y, verbose=1)\n",
    "\n",
    "# print performance\n",
    "print()\n",
    "print('Test loss:', score[0])\n",
    "print('Test accuracy:', score[1])"
   ]
  },
  {
   "cell_type": "code",
   "execution_count": 56,
   "metadata": {},
   "outputs": [
    {
     "ename": "AttributeError",
     "evalue": "type object 'History' has no attribute 'history'",
     "output_type": "error",
     "traceback": [
      "\u001b[0;31m---------------------------------------------------------------------------\u001b[0m",
      "\u001b[0;31mAttributeError\u001b[0m                            Traceback (most recent call last)",
      "\u001b[0;32m<ipython-input-56-ed4eb8c96520>\u001b[0m in \u001b[0;36m<module>\u001b[0;34m\u001b[0m\n\u001b[0;32m----> 1\u001b[0;31m \u001b[0mloss_per_epoch\u001b[0m \u001b[0;34m=\u001b[0m \u001b[0mtf\u001b[0m\u001b[0;34m.\u001b[0m\u001b[0mkeras\u001b[0m\u001b[0;34m.\u001b[0m\u001b[0mcallbacks\u001b[0m\u001b[0;34m.\u001b[0m\u001b[0mHistory\u001b[0m\u001b[0;34m.\u001b[0m\u001b[0mhistory\u001b[0m\u001b[0;34m[\u001b[0m\u001b[0;34m'loss'\u001b[0m\u001b[0;34m]\u001b[0m\u001b[0;34m\u001b[0m\u001b[0;34m\u001b[0m\u001b[0m\n\u001b[0m\u001b[1;32m      2\u001b[0m \u001b[0mplt\u001b[0m\u001b[0;34m.\u001b[0m\u001b[0mplot\u001b[0m\u001b[0;34m(\u001b[0m\u001b[0mrange\u001b[0m\u001b[0;34m(\u001b[0m\u001b[0mlen\u001b[0m\u001b[0;34m(\u001b[0m\u001b[0mloss_per_epoch\u001b[0m\u001b[0;34m)\u001b[0m\u001b[0;34m)\u001b[0m\u001b[0;34m,\u001b[0m \u001b[0mloss_per_epoch\u001b[0m\u001b[0;34m)\u001b[0m\u001b[0;34m\u001b[0m\u001b[0;34m\u001b[0m\u001b[0m\n",
      "\u001b[0;31mAttributeError\u001b[0m: type object 'History' has no attribute 'history'"
     ]
    }
   ],
   "source": [
    "loss_per_epoch = tf.keras.callbacks.History.history['loss']\n",
    "plt.plot(range(len(loss_per_epoch)), loss_per_epoch)"
   ]
  },
  {
   "cell_type": "code",
   "execution_count": null,
   "metadata": {},
   "outputs": [],
   "source": []
  }
 ],
 "metadata": {
  "kernelspec": {
   "display_name": "Python 3",
   "language": "python",
   "name": "python3"
  },
  "language_info": {
   "codemirror_mode": {
    "name": "ipython",
    "version": 3
   },
   "file_extension": ".py",
   "mimetype": "text/x-python",
   "name": "python",
   "nbconvert_exporter": "python",
   "pygments_lexer": "ipython3",
   "version": "3.6.13"
  }
 },
 "nbformat": 4,
 "nbformat_minor": 4
}
